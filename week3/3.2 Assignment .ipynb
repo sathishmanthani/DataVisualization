{
 "cells": [
  {
   "cell_type": "code",
   "execution_count": null,
   "metadata": {},
   "outputs": [],
   "source": []
  },
  {
   "cell_type": "code",
   "execution_count": 5,
   "metadata": {},
   "outputs": [],
   "source": [
    "import pandas as pd\n",
    "import matplotlib.pyplot as plt\n",
    "import seaborn as sns"
   ]
  },
  {
   "cell_type": "code",
   "execution_count": 30,
   "metadata": {},
   "outputs": [
    {
     "data": {
      "text/html": [
       "<div>\n",
       "<style scoped>\n",
       "    .dataframe tbody tr th:only-of-type {\n",
       "        vertical-align: middle;\n",
       "    }\n",
       "\n",
       "    .dataframe tbody tr th {\n",
       "        vertical-align: top;\n",
       "    }\n",
       "\n",
       "    .dataframe thead th {\n",
       "        text-align: right;\n",
       "    }\n",
       "</style>\n",
       "<table border=\"1\" class=\"dataframe\">\n",
       "  <thead>\n",
       "    <tr style=\"text-align: right;\">\n",
       "      <th></th>\n",
       "      <th>year</th>\n",
       "      <th>rate</th>\n",
       "    </tr>\n",
       "  </thead>\n",
       "  <tbody>\n",
       "    <tr>\n",
       "      <th>0</th>\n",
       "      <td>1960</td>\n",
       "      <td>36.400</td>\n",
       "    </tr>\n",
       "    <tr>\n",
       "      <th>1</th>\n",
       "      <td>1961</td>\n",
       "      <td>35.179</td>\n",
       "    </tr>\n",
       "    <tr>\n",
       "      <th>2</th>\n",
       "      <td>1962</td>\n",
       "      <td>33.863</td>\n",
       "    </tr>\n",
       "    <tr>\n",
       "      <th>3</th>\n",
       "      <td>1963</td>\n",
       "      <td>32.459</td>\n",
       "    </tr>\n",
       "    <tr>\n",
       "      <th>4</th>\n",
       "      <td>1964</td>\n",
       "      <td>30.994</td>\n",
       "    </tr>\n",
       "  </tbody>\n",
       "</table>\n",
       "</div>"
      ],
      "text/plain": [
       "   year    rate\n",
       "0  1960  36.400\n",
       "1  1961  35.179\n",
       "2  1962  33.863\n",
       "3  1963  32.459\n",
       "4  1964  30.994"
      ]
     },
     "execution_count": 30,
     "metadata": {},
     "output_type": "execute_result"
    }
   ],
   "source": [
    "birthrates_df = pd.read_csv('data/birth-rates-yearly.csv')\n",
    "birthrates_df.head()"
   ]
  },
  {
   "cell_type": "code",
   "execution_count": 37,
   "metadata": {},
   "outputs": [],
   "source": [
    "birthrates_df=birthrates_df.groupby(['year']).mean()\n",
    "birthrates_df['year1'] = birthrates_df.index"
   ]
  },
  {
   "cell_type": "code",
   "execution_count": 38,
   "metadata": {},
   "outputs": [
    {
     "name": "stdout",
     "output_type": "stream",
     "text": [
      "<class 'pandas.core.frame.DataFrame'>\n",
      "Int64Index: 49 entries, 1960 to 2008\n",
      "Data columns (total 2 columns):\n",
      "rate     49 non-null float64\n",
      "year1    49 non-null int64\n",
      "dtypes: float64(1), int64(1)\n",
      "memory usage: 1.1 KB\n"
     ]
    }
   ],
   "source": [
    "birthrates_df.info()"
   ]
  },
  {
   "cell_type": "markdown",
   "metadata": {},
   "source": [
    "## Scatter Plot"
   ]
  },
  {
   "cell_type": "code",
   "execution_count": 46,
   "metadata": {},
   "outputs": [
    {
     "data": {
      "text/plain": [
       "Text(9.924999999999997, 0.5, 'Avg Birth Rate')"
      ]
     },
     "execution_count": 46,
     "metadata": {},
     "output_type": "execute_result"
    },
    {
     "data": {
      "image/png": "[encoded data removed]",
      "text/plain": [
       "<Figure size 360x360 with 1 Axes>"
      ]
     },
     "metadata": {
      "needs_background": "light"
     },
     "output_type": "display_data"
    }
   ],
   "source": [
    "sns.lmplot(x='year1',y='rate',data=birthrates_df)\n",
    "plt.title('Average Birth rates over the years')\n",
    "plt.xlabel('Year')\n",
    "plt.ylabel('Avg Birth Rate')"
   ]
  },
  {
   "cell_type": "code",
   "execution_count": 47,
   "metadata": {
    "scrolled": false
   },
   "outputs": [
    {
     "data": {
      "text/html": [
       "<div>\n",
       "<style scoped>\n",
       "    .dataframe tbody tr th:only-of-type {\n",
       "        vertical-align: middle;\n",
       "    }\n",
       "\n",
       "    .dataframe tbody tr th {\n",
       "        vertical-align: top;\n",
       "    }\n",
       "\n",
       "    .dataframe thead th {\n",
       "        text-align: right;\n",
       "    }\n",
       "</style>\n",
       "<table border=\"1\" class=\"dataframe\">\n",
       "  <thead>\n",
       "    <tr style=\"text-align: right;\">\n",
       "      <th></th>\n",
       "      <th>state</th>\n",
       "      <th>murder</th>\n",
       "      <th>forcible_rape</th>\n",
       "      <th>robbery</th>\n",
       "      <th>aggravated_assault</th>\n",
       "      <th>burglary</th>\n",
       "      <th>larceny_theft</th>\n",
       "      <th>motor_vehicle_theft</th>\n",
       "      <th>population</th>\n",
       "    </tr>\n",
       "  </thead>\n",
       "  <tbody>\n",
       "    <tr>\n",
       "      <th>1</th>\n",
       "      <td>Alabama</td>\n",
       "      <td>8.2</td>\n",
       "      <td>34.3</td>\n",
       "      <td>141.4</td>\n",
       "      <td>247.8</td>\n",
       "      <td>953.8</td>\n",
       "      <td>2650.0</td>\n",
       "      <td>288.3</td>\n",
       "      <td>4545049</td>\n",
       "    </tr>\n",
       "    <tr>\n",
       "      <th>2</th>\n",
       "      <td>Alaska</td>\n",
       "      <td>4.8</td>\n",
       "      <td>81.1</td>\n",
       "      <td>80.9</td>\n",
       "      <td>465.1</td>\n",
       "      <td>622.5</td>\n",
       "      <td>2599.1</td>\n",
       "      <td>391.0</td>\n",
       "      <td>669488</td>\n",
       "    </tr>\n",
       "    <tr>\n",
       "      <th>3</th>\n",
       "      <td>Arizona</td>\n",
       "      <td>7.5</td>\n",
       "      <td>33.8</td>\n",
       "      <td>144.4</td>\n",
       "      <td>327.4</td>\n",
       "      <td>948.4</td>\n",
       "      <td>2965.2</td>\n",
       "      <td>924.4</td>\n",
       "      <td>5974834</td>\n",
       "    </tr>\n",
       "    <tr>\n",
       "      <th>4</th>\n",
       "      <td>Arkansas</td>\n",
       "      <td>6.7</td>\n",
       "      <td>42.9</td>\n",
       "      <td>91.1</td>\n",
       "      <td>386.8</td>\n",
       "      <td>1084.6</td>\n",
       "      <td>2711.2</td>\n",
       "      <td>262.1</td>\n",
       "      <td>2776221</td>\n",
       "    </tr>\n",
       "    <tr>\n",
       "      <th>5</th>\n",
       "      <td>California</td>\n",
       "      <td>6.9</td>\n",
       "      <td>26.0</td>\n",
       "      <td>176.1</td>\n",
       "      <td>317.3</td>\n",
       "      <td>693.3</td>\n",
       "      <td>1916.5</td>\n",
       "      <td>712.8</td>\n",
       "      <td>35795255</td>\n",
       "    </tr>\n",
       "  </tbody>\n",
       "</table>\n",
       "</div>"
      ],
      "text/plain": [
       "        state  murder  forcible_rape  robbery  aggravated_assault  burglary  \\\n",
       "1     Alabama     8.2           34.3    141.4               247.8     953.8   \n",
       "2      Alaska     4.8           81.1     80.9               465.1     622.5   \n",
       "3     Arizona     7.5           33.8    144.4               327.4     948.4   \n",
       "4    Arkansas     6.7           42.9     91.1               386.8    1084.6   \n",
       "5  California     6.9           26.0    176.1               317.3     693.3   \n",
       "\n",
       "   larceny_theft  motor_vehicle_theft  population  \n",
       "1         2650.0                288.3     4545049  \n",
       "2         2599.1                391.0      669488  \n",
       "3         2965.2                924.4     5974834  \n",
       "4         2711.2                262.1     2776221  \n",
       "5         1916.5                712.8    35795255  "
      ]
     },
     "execution_count": 47,
     "metadata": {},
     "output_type": "execute_result"
    }
   ],
   "source": [
    "crime_df = pd.read_csv('data/crimerates-by-state-2005.csv')\n",
    "crime_df = crime_df[crime_df['state']!='United States']\n",
    "crime_df.head()"
   ]
  },
  {
   "cell_type": "markdown",
   "metadata": {},
   "source": [
    "## Dense Plot"
   ]
  },
  {
   "cell_type": "code",
   "execution_count": 51,
   "metadata": {},
   "outputs": [
    {
     "data": {
      "text/plain": [
       "Text(0.5, 0, 'Population')"
      ]
     },
     "execution_count": 51,
     "metadata": {},
     "output_type": "execute_result"
    },
    {
     "data": {
      "image/png": "[encoded data removed]",
      "text/plain": [
       "<Figure size 432x288 with 1 Axes>"
      ]
     },
     "metadata": {
      "needs_background": "light"
     },
     "output_type": "display_data"
    }
   ],
   "source": [
    "# Dense plot of population\n",
    "sns.distplot(crime_df['population'], hist = False, kde = True,\n",
    "                 kde_kws = {'shade': True, 'linewidth': 3})\n",
    "plt.title('Dense plot of Population ')\n",
    "plt.xlabel('Population')"
   ]
  },
  {
   "cell_type": "code",
   "execution_count": 81,
   "metadata": {},
   "outputs": [
    {
     "data": {
      "text/plain": [
       "<seaborn.axisgrid.JointGrid at 0x1799256f2e8>"
      ]
     },
     "execution_count": 81,
     "metadata": {},
     "output_type": "execute_result"
    },
    {
     "data": {
      "image/png": "[encoded data removed]",
      "text/plain": [
       "<Figure size 432x432 with 3 Axes>"
      ]
     },
     "metadata": {
      "needs_background": "light"
     },
     "output_type": "display_data"
    }
   ],
   "source": [
    "sns.jointplot('burglary','forcible_rape', data=crime_df, kind='kde', space=0.2)\n",
    "plt.title(\"Density estimates - Burglary vs Forcible rape\")"
   ]
  },
  {
   "cell_type": "markdown",
   "metadata": {},
   "source": [
    "## Bubble Chart"
   ]
  },
  {
   "cell_type": "code",
   "execution_count": 73,
   "metadata": {},
   "outputs": [],
   "source": [
    "## Top 10 states by murders\n",
    "crime_df = crime_df.nlargest(10, 'murder')"
   ]
  },
  {
   "cell_type": "code",
   "execution_count": 77,
   "metadata": {},
   "outputs": [
    {
     "data": {
      "text/html": [
       "\n",
       "        <iframe\n",
       "            width=\"100%\"\n",
       "            height=\"525px\"\n",
       "            src=\"https://plotly.com/~sathishinfa/1.embed\"\n",
       "            frameborder=\"0\"\n",
       "            allowfullscreen\n",
       "        ></iframe>\n",
       "        "
      ],
      "text/plain": [
       "<IPython.lib.display.IFrame at 0x179a1837c88>"
      ]
     },
     "execution_count": 77,
     "metadata": {},
     "output_type": "execute_result"
    }
   ],
   "source": [
    "\n",
    "import chart_studio.plotly as py\n",
    "\n",
    "py.plotly.tools.set_credentials_file(username='sathishinfa', api_key='eSKRX6tNi2ae0WWmTvs2')\n",
    "cf.set_config_file(offline=False, world_readable=True, theme='pearl')\n",
    "\n",
    "crime_df.iplot(kind='bubble', x='murder', y='robbery', size='population', text='state',\n",
    "             xTitle='Murders', yTitle='Robberries',\n",
    "             filename='Murder and Robbery by population')"
   ]
  },
  {
   "cell_type": "code",
   "execution_count": null,
   "metadata": {},
   "outputs": [],
   "source": []
  }
 ],
 "metadata": {
  "kernelspec": {
   "display_name": "Python 3",
   "language": "python",
   "name": "python3"
  },
  "language_info": {
   "codemirror_mode": {
    "name": "ipython",
    "version": 3
   },
   "file_extension": ".py",
   "mimetype": "text/x-python",
   "name": "python",
   "nbconvert_exporter": "python",
   "pygments_lexer": "ipython3",
   "version": "3.7.3"
  }
 },
 "nbformat": 4,
 "nbformat_minor": 2
}
