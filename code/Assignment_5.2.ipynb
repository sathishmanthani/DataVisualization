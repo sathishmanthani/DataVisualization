{
 "cells": [
  {
   "cell_type": "code",
   "execution_count": 1,
   "metadata": {},
   "outputs": [],
   "source": [
    "# Author: Sathish Manthani\n",
    "# Date: 8/2/2020\n",
    "# Course: DSC640 - Data visualization"
   ]
  },
  {
   "cell_type": "code",
   "execution_count": 2,
   "metadata": {},
   "outputs": [],
   "source": [
    "# This week's assignment is focused on histograms, box plots, and bullet charts"
   ]
  },
  {
   "cell_type": "code",
   "execution_count": 42,
   "metadata": {},
   "outputs": [],
   "source": [
    "# Import necessary libraries\n",
    "import pandas as pd\n",
    "import matplotlib.pyplot as plt\n",
    "import numpy as np\n",
    "import seaborn as sns"
   ]
  },
  {
   "cell_type": "code",
   "execution_count": 59,
   "metadata": {},
   "outputs": [],
   "source": [
    "edu_df = pd.read_csv('data/education.csv')\n",
    "crime_df = pd.read_csv('data/crimeratesbystate-formatted.csv')\n",
    "birth_df = pd.read_csv('data/birth-rate.csv')"
   ]
  },
  {
   "cell_type": "code",
   "execution_count": 60,
   "metadata": {},
   "outputs": [
    {
     "data": {
      "text/html": [
       "<div>\n",
       "<style scoped>\n",
       "    .dataframe tbody tr th:only-of-type {\n",
       "        vertical-align: middle;\n",
       "    }\n",
       "\n",
       "    .dataframe tbody tr th {\n",
       "        vertical-align: top;\n",
       "    }\n",
       "\n",
       "    .dataframe thead th {\n",
       "        text-align: right;\n",
       "    }\n",
       "</style>\n",
       "<table border=\"1\" class=\"dataframe\">\n",
       "  <thead>\n",
       "    <tr style=\"text-align: right;\">\n",
       "      <th></th>\n",
       "      <th>state</th>\n",
       "      <th>murder</th>\n",
       "      <th>forcible_rape</th>\n",
       "      <th>robbery</th>\n",
       "      <th>aggravated_assault</th>\n",
       "      <th>burglary</th>\n",
       "      <th>larceny_theft</th>\n",
       "      <th>motor_vehicle_theft</th>\n",
       "    </tr>\n",
       "  </thead>\n",
       "  <tbody>\n",
       "    <tr>\n",
       "      <th>0</th>\n",
       "      <td>United States</td>\n",
       "      <td>5.6</td>\n",
       "      <td>31.7</td>\n",
       "      <td>140.7</td>\n",
       "      <td>291.1</td>\n",
       "      <td>726.7</td>\n",
       "      <td>2286.3</td>\n",
       "      <td>416.7</td>\n",
       "    </tr>\n",
       "    <tr>\n",
       "      <th>1</th>\n",
       "      <td>Alabama</td>\n",
       "      <td>8.2</td>\n",
       "      <td>34.3</td>\n",
       "      <td>141.4</td>\n",
       "      <td>247.8</td>\n",
       "      <td>953.8</td>\n",
       "      <td>2650.0</td>\n",
       "      <td>288.3</td>\n",
       "    </tr>\n",
       "    <tr>\n",
       "      <th>2</th>\n",
       "      <td>Alaska</td>\n",
       "      <td>4.8</td>\n",
       "      <td>81.1</td>\n",
       "      <td>80.9</td>\n",
       "      <td>465.1</td>\n",
       "      <td>622.5</td>\n",
       "      <td>2599.1</td>\n",
       "      <td>391.0</td>\n",
       "    </tr>\n",
       "    <tr>\n",
       "      <th>3</th>\n",
       "      <td>Arizona</td>\n",
       "      <td>7.5</td>\n",
       "      <td>33.8</td>\n",
       "      <td>144.4</td>\n",
       "      <td>327.4</td>\n",
       "      <td>948.4</td>\n",
       "      <td>2965.2</td>\n",
       "      <td>924.4</td>\n",
       "    </tr>\n",
       "    <tr>\n",
       "      <th>4</th>\n",
       "      <td>Arkansas</td>\n",
       "      <td>6.7</td>\n",
       "      <td>42.9</td>\n",
       "      <td>91.1</td>\n",
       "      <td>386.8</td>\n",
       "      <td>1084.6</td>\n",
       "      <td>2711.2</td>\n",
       "      <td>262.1</td>\n",
       "    </tr>\n",
       "  </tbody>\n",
       "</table>\n",
       "</div>"
      ],
      "text/plain": [
       "            state  murder  forcible_rape  robbery  aggravated_assault  \\\n",
       "0  United States      5.6           31.7    140.7               291.1   \n",
       "1        Alabama      8.2           34.3    141.4               247.8   \n",
       "2         Alaska      4.8           81.1     80.9               465.1   \n",
       "3        Arizona      7.5           33.8    144.4               327.4   \n",
       "4        Arkansas     6.7           42.9     91.1               386.8   \n",
       "\n",
       "   burglary  larceny_theft  motor_vehicle_theft  \n",
       "0     726.7         2286.3                416.7  \n",
       "1     953.8         2650.0                288.3  \n",
       "2     622.5         2599.1                391.0  \n",
       "3     948.4         2965.2                924.4  \n",
       "4    1084.6         2711.2                262.1  "
      ]
     },
     "execution_count": 60,
     "metadata": {},
     "output_type": "execute_result"
    }
   ],
   "source": [
    "crime_df.head()"
   ]
  },
  {
   "cell_type": "markdown",
   "metadata": {},
   "source": [
    "## Histogram"
   ]
  },
  {
   "cell_type": "code",
   "execution_count": 61,
   "metadata": {},
   "outputs": [
    {
     "data": {
      "text/plain": [
       "<matplotlib.axes._subplots.AxesSubplot at 0x18bfa245588>"
      ]
     },
     "execution_count": 61,
     "metadata": {},
     "output_type": "execute_result"
    },
    {
     "data": {
      "image/png": "[encoded data removed]",
      "text/plain": [
       "<Figure size 432x288 with 1 Axes>"
      ]
     },
     "metadata": {
      "needs_background": "light"
     },
     "output_type": "display_data"
    }
   ],
   "source": [
    "#Removing US data row\n",
    "crime_df = crime_df[crime_df['state']!= 'United States']\n",
    "\n",
    "# Histogram\n",
    "sns.distplot(crime_df[\"burglary\"] )"
   ]
  },
  {
   "cell_type": "code",
   "execution_count": 62,
   "metadata": {},
   "outputs": [
    {
     "data": {
      "text/html": [
       "<div>\n",
       "<style scoped>\n",
       "    .dataframe tbody tr th:only-of-type {\n",
       "        vertical-align: middle;\n",
       "    }\n",
       "\n",
       "    .dataframe tbody tr th {\n",
       "        vertical-align: top;\n",
       "    }\n",
       "\n",
       "    .dataframe thead th {\n",
       "        text-align: right;\n",
       "    }\n",
       "</style>\n",
       "<table border=\"1\" class=\"dataframe\">\n",
       "  <thead>\n",
       "    <tr style=\"text-align: right;\">\n",
       "      <th></th>\n",
       "      <th>Country</th>\n",
       "      <th>1960</th>\n",
       "      <th>1961</th>\n",
       "      <th>1962</th>\n",
       "      <th>1963</th>\n",
       "      <th>1964</th>\n",
       "      <th>1965</th>\n",
       "      <th>1966</th>\n",
       "      <th>1967</th>\n",
       "      <th>1968</th>\n",
       "      <th>...</th>\n",
       "      <th>1999</th>\n",
       "      <th>2000</th>\n",
       "      <th>2001</th>\n",
       "      <th>2002</th>\n",
       "      <th>2003</th>\n",
       "      <th>2004</th>\n",
       "      <th>2005</th>\n",
       "      <th>2006</th>\n",
       "      <th>2007</th>\n",
       "      <th>2008</th>\n",
       "    </tr>\n",
       "  </thead>\n",
       "  <tbody>\n",
       "    <tr>\n",
       "      <th>0</th>\n",
       "      <td>Aruba</td>\n",
       "      <td>36.400</td>\n",
       "      <td>35.179</td>\n",
       "      <td>33.863</td>\n",
       "      <td>32.459</td>\n",
       "      <td>30.994</td>\n",
       "      <td>29.513</td>\n",
       "      <td>28.069</td>\n",
       "      <td>26.721</td>\n",
       "      <td>25.518</td>\n",
       "      <td>...</td>\n",
       "      <td>15.024</td>\n",
       "      <td>14.528</td>\n",
       "      <td>14.041</td>\n",
       "      <td>13.579</td>\n",
       "      <td>13.153</td>\n",
       "      <td>12.772</td>\n",
       "      <td>12.441</td>\n",
       "      <td>12.159</td>\n",
       "      <td>11.919</td>\n",
       "      <td>11.716</td>\n",
       "    </tr>\n",
       "    <tr>\n",
       "      <th>1</th>\n",
       "      <td>Afghanistan</td>\n",
       "      <td>52.201</td>\n",
       "      <td>52.206</td>\n",
       "      <td>52.208</td>\n",
       "      <td>52.204</td>\n",
       "      <td>52.192</td>\n",
       "      <td>52.168</td>\n",
       "      <td>52.130</td>\n",
       "      <td>52.076</td>\n",
       "      <td>52.006</td>\n",
       "      <td>...</td>\n",
       "      <td>51.229</td>\n",
       "      <td>50.903</td>\n",
       "      <td>50.486</td>\n",
       "      <td>49.984</td>\n",
       "      <td>49.416</td>\n",
       "      <td>48.803</td>\n",
       "      <td>48.177</td>\n",
       "      <td>47.575</td>\n",
       "      <td>47.023</td>\n",
       "      <td>46.538</td>\n",
       "    </tr>\n",
       "    <tr>\n",
       "      <th>2</th>\n",
       "      <td>Angola</td>\n",
       "      <td>54.432</td>\n",
       "      <td>54.394</td>\n",
       "      <td>54.317</td>\n",
       "      <td>54.199</td>\n",
       "      <td>54.040</td>\n",
       "      <td>53.836</td>\n",
       "      <td>53.585</td>\n",
       "      <td>53.296</td>\n",
       "      <td>52.984</td>\n",
       "      <td>...</td>\n",
       "      <td>48.662</td>\n",
       "      <td>48.355</td>\n",
       "      <td>48.005</td>\n",
       "      <td>47.545</td>\n",
       "      <td>46.936</td>\n",
       "      <td>46.184</td>\n",
       "      <td>45.330</td>\n",
       "      <td>44.444</td>\n",
       "      <td>43.607</td>\n",
       "      <td>42.875</td>\n",
       "    </tr>\n",
       "    <tr>\n",
       "      <th>3</th>\n",
       "      <td>Albania</td>\n",
       "      <td>40.886</td>\n",
       "      <td>40.312</td>\n",
       "      <td>39.604</td>\n",
       "      <td>38.792</td>\n",
       "      <td>37.913</td>\n",
       "      <td>37.008</td>\n",
       "      <td>36.112</td>\n",
       "      <td>35.245</td>\n",
       "      <td>34.421</td>\n",
       "      <td>...</td>\n",
       "      <td>17.713</td>\n",
       "      <td>16.850</td>\n",
       "      <td>16.081</td>\n",
       "      <td>15.444</td>\n",
       "      <td>14.962</td>\n",
       "      <td>14.644</td>\n",
       "      <td>14.485</td>\n",
       "      <td>14.464</td>\n",
       "      <td>14.534</td>\n",
       "      <td>14.649</td>\n",
       "    </tr>\n",
       "    <tr>\n",
       "      <th>4</th>\n",
       "      <td>Netherlands Antilles</td>\n",
       "      <td>32.321</td>\n",
       "      <td>30.987</td>\n",
       "      <td>29.618</td>\n",
       "      <td>28.229</td>\n",
       "      <td>26.849</td>\n",
       "      <td>25.518</td>\n",
       "      <td>24.280</td>\n",
       "      <td>23.173</td>\n",
       "      <td>22.230</td>\n",
       "      <td>...</td>\n",
       "      <td>15.809</td>\n",
       "      <td>15.412</td>\n",
       "      <td>15.096</td>\n",
       "      <td>14.824</td>\n",
       "      <td>14.565</td>\n",
       "      <td>14.309</td>\n",
       "      <td>14.051</td>\n",
       "      <td>13.790</td>\n",
       "      <td>13.532</td>\n",
       "      <td>13.281</td>\n",
       "    </tr>\n",
       "  </tbody>\n",
       "</table>\n",
       "<p>5 rows × 50 columns</p>\n",
       "</div>"
      ],
      "text/plain": [
       "                Country    1960    1961    1962    1963    1964    1965  \\\n",
       "0                 Aruba  36.400  35.179  33.863  32.459  30.994  29.513   \n",
       "1           Afghanistan  52.201  52.206  52.208  52.204  52.192  52.168   \n",
       "2                Angola  54.432  54.394  54.317  54.199  54.040  53.836   \n",
       "3               Albania  40.886  40.312  39.604  38.792  37.913  37.008   \n",
       "4  Netherlands Antilles  32.321  30.987  29.618  28.229  26.849  25.518   \n",
       "\n",
       "     1966    1967    1968  ...    1999    2000    2001    2002    2003  \\\n",
       "0  28.069  26.721  25.518  ...  15.024  14.528  14.041  13.579  13.153   \n",
       "1  52.130  52.076  52.006  ...  51.229  50.903  50.486  49.984  49.416   \n",
       "2  53.585  53.296  52.984  ...  48.662  48.355  48.005  47.545  46.936   \n",
       "3  36.112  35.245  34.421  ...  17.713  16.850  16.081  15.444  14.962   \n",
       "4  24.280  23.173  22.230  ...  15.809  15.412  15.096  14.824  14.565   \n",
       "\n",
       "     2004    2005    2006    2007    2008  \n",
       "0  12.772  12.441  12.159  11.919  11.716  \n",
       "1  48.803  48.177  47.575  47.023  46.538  \n",
       "2  46.184  45.330  44.444  43.607  42.875  \n",
       "3  14.644  14.485  14.464  14.534  14.649  \n",
       "4  14.309  14.051  13.790  13.532  13.281  \n",
       "\n",
       "[5 rows x 50 columns]"
      ]
     },
     "execution_count": 62,
     "metadata": {},
     "output_type": "execute_result"
    }
   ],
   "source": [
    "birth_df.head()"
   ]
  },
  {
   "cell_type": "markdown",
   "metadata": {},
   "source": [
    "## Box plot"
   ]
  },
  {
   "cell_type": "code",
   "execution_count": 68,
   "metadata": {},
   "outputs": [
    {
     "data": {
      "text/plain": [
       "<matplotlib.axes._subplots.AxesSubplot at 0x18bfa4db3c8>"
      ]
     },
     "execution_count": 68,
     "metadata": {},
     "output_type": "execute_result"
    },
    {
     "data": {
      "image/png": "[encoded data removed]",
      "text/plain": [
       "<Figure size 432x288 with 1 Axes>"
      ]
     },
     "metadata": {
      "needs_background": "light"
     },
     "output_type": "display_data"
    }
   ],
   "source": [
    "birth_melt = pd.melt(birth_df, id_vars=\"Country\", var_name=\"Year\", value_name = 'BirthRate').fillna(0)\n",
    "birth_bp = birth_melt[(birth_melt[\"Country\"]==\"United States\") | (birth_melt[\"Country\"]==\"China\") | (birth_melt[\"Country\"]==\"India\")]\n",
    "sns.boxplot(x = birth_bp[\"Country\"], y=birth_bp[\"BirthRate\"])\n"
   ]
  }
 ],
 "metadata": {
  "kernelspec": {
   "display_name": "Python 3",
   "language": "python",
   "name": "python3"
  },
  "language_info": {
   "codemirror_mode": {
    "name": "ipython",
    "version": 3
   },
   "file_extension": ".py",
   "mimetype": "text/x-python",
   "name": "python",
   "nbconvert_exporter": "python",
   "pygments_lexer": "ipython3",
   "version": "3.7.3"
  }
 },
 "nbformat": 4,
 "nbformat_minor": 2
}
